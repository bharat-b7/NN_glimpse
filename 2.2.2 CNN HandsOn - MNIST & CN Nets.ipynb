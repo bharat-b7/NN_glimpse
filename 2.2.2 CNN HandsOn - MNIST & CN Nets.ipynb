{
 "cells": [
  {
   "cell_type": "markdown",
   "metadata": {
    "deletable": true,
    "editable": true,
    "slideshow": {
     "slide_type": "slide"
    }
   },
   "source": [
    "# Convolution Nets for MNIST"
   ]
  },
  {
   "cell_type": "markdown",
   "metadata": {
    "deletable": true,
    "editable": true,
    "slideshow": {
     "slide_type": "subslide"
    }
   },
   "source": [
    "Deep Learning models can take quite a bit of time to run, particularly if GPU isn't used. \n",
    "\n",
    "In the interest of time, you could sample a subset of observations (e.g. $1000$) that are a particular number of your choice (e.g. $6$) and $1000$ observations that aren't that particular number (i.e. $\\neq 6$). \n",
    "\n",
    "We will build a model using that and see how it performs on the test dataset"
   ]
  },
  {
   "cell_type": "code",
   "execution_count": 1,
   "metadata": {
    "collapsed": false,
    "deletable": true,
    "editable": true,
    "slideshow": {
     "slide_type": "subslide"
    }
   },
   "outputs": [
    {
     "name": "stderr",
     "output_type": "stream",
     "text": [
      "Using Theano backend.\n",
      "Using gpu device 2: GeForce GTX 1080 (CNMeM is disabled, cuDNN 5105)\n",
      "/users/bharat.b/.local/lib/python2.7/site-packages/theano/sandbox/cuda/__init__.py:600: UserWarning: Your cuDNN version is more recent than the one Theano officially supports. If you see any problems, try updating Theano or downgrading cuDNN to version 5.\n",
      "  warnings.warn(warn)\n"
     ]
    }
   ],
   "source": [
    "import os\n",
    "#os.environ[\"CUDA_DEVICE_ORDER\"] = \"PCI_BUS_ID\"   # see issue #152\n",
    "#os.environ[\"CUDA_VISIBLE_DEVICES\"] = \"\"\n",
    "os.environ['THEANO_FLAGS'] = \"device=gpu2\"\n",
    "\n",
    "#Import the required libraries\n",
    "import numpy as np\n",
    "np.random.seed(1338)\n",
    "\n",
    "from keras.datasets import mnist\n",
    "from keras.models import load_model"
   ]
  },
  {
   "cell_type": "code",
   "execution_count": 2,
   "metadata": {
    "collapsed": true,
    "deletable": true,
    "editable": true,
    "slideshow": {
     "slide_type": "fragment"
    }
   },
   "outputs": [],
   "source": [
    "from keras.models import Sequential\n",
    "from keras.layers.core import Dense, Dropout, Activation, Flatten"
   ]
  },
  {
   "cell_type": "code",
   "execution_count": 3,
   "metadata": {
    "collapsed": false,
    "deletable": true,
    "editable": true,
    "slideshow": {
     "slide_type": "fragment"
    }
   },
   "outputs": [],
   "source": [
    "from keras.layers.convolutional import Conv2D\n",
    "from keras.layers.pooling import MaxPooling2D"
   ]
  },
  {
   "cell_type": "code",
   "execution_count": 4,
   "metadata": {
    "collapsed": true,
    "deletable": true,
    "editable": true,
    "slideshow": {
     "slide_type": "fragment"
    }
   },
   "outputs": [],
   "source": [
    "from keras.utils import np_utils\n",
    "from keras.optimizers import SGD"
   ]
  },
  {
   "cell_type": "markdown",
   "metadata": {
    "deletable": true,
    "editable": true,
    "slideshow": {
     "slide_type": "subslide"
    }
   },
   "source": [
    "## Loading Data"
   ]
  },
  {
   "cell_type": "code",
   "execution_count": 5,
   "metadata": {
    "collapsed": false,
    "deletable": true,
    "editable": true,
    "slideshow": {
     "slide_type": "-"
    }
   },
   "outputs": [],
   "source": [
    "#Load the training and testing data\n",
    "(X_train, y_train), (X_test, y_test) = mnist.load_data()"
   ]
  },
  {
   "cell_type": "markdown",
   "metadata": {
    "deletable": true,
    "editable": true,
    "slideshow": {
     "slide_type": "subslide"
    }
   },
   "source": [
    "## Data Preparation"
   ]
  },
  {
   "cell_type": "markdown",
   "metadata": {},
   "source": [
    "#### Very Important: \n",
    "When dealing with images & convolutions, it is paramount to handle `image_data_format` properly"
   ]
  },
  {
   "cell_type": "code",
   "execution_count": 6,
   "metadata": {
    "collapsed": false,
    "deletable": true,
    "editable": true
   },
   "outputs": [],
   "source": [
    "img_rows, img_cols = 28, 28\n",
    "'''\n",
    "if K.image_data_format() == 'channels_first':\n",
    "    shape_ord = (1, img_rows, img_cols)\n",
    "else:  # channel_last\n",
    "    shape_ord = (img_rows, img_cols, 1)\n",
    "'''\n",
    "shape_ord = (1, img_rows, img_cols)"
   ]
  },
  {
   "cell_type": "markdown",
   "metadata": {},
   "source": [
    "#### Preprocess and Normalise Data"
   ]
  },
  {
   "cell_type": "code",
   "execution_count": 7,
   "metadata": {
    "collapsed": false,
    "deletable": true,
    "editable": true,
    "slideshow": {
     "slide_type": "-"
    }
   },
   "outputs": [],
   "source": [
    "X_train = X_train.reshape((X_train.shape[0],) + shape_ord)\n",
    "X_test = X_test.reshape((X_test.shape[0],) + shape_ord)\n",
    "\n",
    "X_train = X_train.astype('float32')\n",
    "X_test = X_test.astype('float32')\n",
    "\n",
    "X_train /= 255\n",
    "X_test /= 255"
   ]
  },
  {
   "cell_type": "code",
   "execution_count": 8,
   "metadata": {
    "collapsed": false,
    "deletable": true,
    "editable": true,
    "slideshow": {
     "slide_type": "fragment"
    }
   },
   "outputs": [],
   "source": [
    "# Converting the classes to its binary categorical form\n",
    "nb_classes = 10\n",
    "y_train = np_utils.to_categorical(y_train, nb_classes)\n",
    "y_test = np_utils.to_categorical(y_test, nb_classes)"
   ]
  },
  {
   "cell_type": "markdown",
   "metadata": {
    "deletable": true,
    "editable": true,
    "slideshow": {
     "slide_type": "slide"
    }
   },
   "source": [
    "# A simple CNN"
   ]
  },
  {
   "cell_type": "code",
   "execution_count": 9,
   "metadata": {
    "collapsed": true,
    "deletable": true,
    "editable": true,
    "slideshow": {
     "slide_type": "subslide"
    }
   },
   "outputs": [],
   "source": [
    "# -- Initializing the values for the convolution neural network\n",
    "\n",
    "nb_epoch = 100  # kept very low! Please increase if you have GPU\n",
    "\n",
    "batch_size = 30000\n",
    "# number of convolutional filters to use\n",
    "nb_filters = 32\n",
    "# size of pooling area for max pooling\n",
    "nb_pool = 2\n",
    "# convolution kernel size\n",
    "nb_conv = 3\n",
    "\n",
    "sgd = SGD(lr=0.1, decay=1e-6, momentum=0.9, nesterov=True)"
   ]
  },
  {
   "cell_type": "markdown",
   "metadata": {
    "deletable": true,
    "editable": true,
    "slideshow": {
     "slide_type": "subslide"
    }
   },
   "source": [
    "#### Step 1: Model Definition"
   ]
  },
  {
   "cell_type": "code",
   "execution_count": 110,
   "metadata": {
    "collapsed": false,
    "deletable": true,
    "editable": true
   },
   "outputs": [],
   "source": [
    "model = Sequential()\n",
    "\n",
    "model.add(Conv2D(nb_filters, nb_conv, nb_conv, \n",
    "                 input_shape=shape_ord))  # note: the very first layer **must** always specify the input_shape\n",
    "model.add(Activation('relu'))\n",
    "\n",
    "model.add(Flatten())\n",
    "model.add(Dense(nb_classes))\n",
    "model.add(Activation('softmax'))"
   ]
  },
  {
   "cell_type": "markdown",
   "metadata": {
    "deletable": true,
    "editable": true,
    "slideshow": {
     "slide_type": "subslide"
    }
   },
   "source": [
    "#### Step 2: Compile"
   ]
  },
  {
   "cell_type": "code",
   "execution_count": 111,
   "metadata": {
    "collapsed": true,
    "deletable": true,
    "editable": true
   },
   "outputs": [],
   "source": [
    "model.compile(loss='categorical_crossentropy',\n",
    "              optimizer='sgd',\n",
    "              metrics=['accuracy'])"
   ]
  },
  {
   "cell_type": "markdown",
   "metadata": {
    "deletable": true,
    "editable": true,
    "slideshow": {
     "slide_type": "subslide"
    }
   },
   "source": [
    "#### Step 3: Fit"
   ]
  },
  {
   "cell_type": "code",
   "execution_count": 10,
   "metadata": {
    "collapsed": false,
    "deletable": true,
    "editable": true
   },
   "outputs": [
    {
     "name": "stdout",
     "output_type": "stream",
     "text": [
      "____________________________________________________________________________________________________\n",
      "Layer (type)                     Output Shape          Param #     Connected to                     \n",
      "====================================================================================================\n",
      "convolution2d_6 (Convolution2D)  (None, 32, 26, 26)    320         convolution2d_input_1[0][0]      \n",
      "____________________________________________________________________________________________________\n",
      "activation_13 (Activation)       (None, 32, 26, 26)    0           convolution2d_6[0][0]            \n",
      "____________________________________________________________________________________________________\n",
      "flatten_6 (Flatten)              (None, 21632)         0           activation_13[0][0]              \n",
      "____________________________________________________________________________________________________\n",
      "dense_8 (Dense)                  (None, 10)            216330      flatten_6[0][0]                  \n",
      "____________________________________________________________________________________________________\n",
      "activation_14 (Activation)       (None, 10)            0           dense_8[0][0]                    \n",
      "====================================================================================================\n",
      "Total params: 216650\n",
      "____________________________________________________________________________________________________\n"
     ]
    }
   ],
   "source": [
    "# Train or load! you choose!!\n",
    "'''\n",
    "hist = model.fit(X_train, y_train, batch_size=batch_size, \n",
    "                 nb_epoch=nb_epoch, verbose=1, \n",
    "                 validation_data=(X_test, y_test))\n",
    "model.save('example_MNIST_CNN_base.h5')\n",
    "'''\n",
    "model=load_model('example_MNIST_CNN_base.h5')\n",
    "model.summary()"
   ]
  },
  {
   "cell_type": "code",
   "execution_count": 114,
   "metadata": {
    "collapsed": false
   },
   "outputs": [
    {
     "data": {
      "text/plain": [
       "<matplotlib.legend.Legend at 0x7f98b5a4ef50>"
      ]
     },
     "execution_count": 114,
     "metadata": {},
     "output_type": "execute_result"
    },
    {
     "data": {
      "image/png": "[encoded data removed]",
      "text/plain": [
       "<matplotlib.figure.Figure at 0x7f98b2c75b50>"
      ]
     },
     "metadata": {},
     "output_type": "display_data"
    },
    {
     "data": {
      "image/png": "[encoded data removed]",
      "text/plain": [
       "<matplotlib.figure.Figure at 0x7f98adea12d0>"
      ]
     },
     "metadata": {},
     "output_type": "display_data"
    }
   ],
   "source": [
    "import matplotlib.pyplot as plt\n",
    "%matplotlib inline\n",
    "\n",
    "plt.figure()\n",
    "plt.xlabel('Epochs')\n",
    "plt.ylabel('Loss')\n",
    "plt.plot(hist.history['loss'])\n",
    "plt.plot(hist.history['val_loss'])\n",
    "plt.legend(['Training', 'Validation'])\n",
    "\n",
    "plt.figure()\n",
    "plt.xlabel('Epochs')\n",
    "plt.ylabel('Accuracy')\n",
    "plt.plot(hist.history['acc'])\n",
    "plt.plot(hist.history['val_acc'])\n",
    "plt.legend(['Training', 'Validation'], loc='lower right')"
   ]
  },
  {
   "cell_type": "markdown",
   "metadata": {
    "deletable": true,
    "editable": true,
    "slideshow": {
     "slide_type": "subslide"
    }
   },
   "source": [
    "### Step 4: Evaluate"
   ]
  },
  {
   "cell_type": "code",
   "execution_count": 11,
   "metadata": {
    "collapsed": false
   },
   "outputs": [
    {
     "name": "stdout",
     "output_type": "stream",
     "text": [
      "Available Metrics in Model: ['loss', 'acc']\n"
     ]
    }
   ],
   "source": [
    "print('Available Metrics in Model: {}'.format(model.metrics_names))"
   ]
  },
  {
   "cell_type": "code",
   "execution_count": 12,
   "metadata": {
    "collapsed": false,
    "deletable": true,
    "editable": true
   },
   "outputs": [
    {
     "name": "stdout",
     "output_type": "stream",
     "text": [
      "('Test Loss:', 0.36093157870769499)\n",
      "('Test Accuracy:', 0.90080000000000005)\n"
     ]
    }
   ],
   "source": [
    "# Evaluating the model on the test data    \n",
    "loss, accuracy = model.evaluate(X_test, y_test, verbose=0)\n",
    "print('Test Loss:', loss)\n",
    "print('Test Accuracy:', accuracy)"
   ]
  },
  {
   "cell_type": "markdown",
   "metadata": {
    "deletable": true,
    "editable": true,
    "slideshow": {
     "slide_type": "subslide"
    }
   },
   "source": [
    "### Let's plot our model Predictions!"
   ]
  },
  {
   "cell_type": "code",
   "execution_count": 13,
   "metadata": {
    "collapsed": true,
    "deletable": true,
    "editable": true,
    "slideshow": {
     "slide_type": "skip"
    }
   },
   "outputs": [],
   "source": [
    "import matplotlib.pyplot as plt\n",
    "\n",
    "%matplotlib inline"
   ]
  },
  {
   "cell_type": "code",
   "execution_count": 14,
   "metadata": {
    "collapsed": false,
    "deletable": true,
    "editable": true,
    "slideshow": {
     "slide_type": "subslide"
    }
   },
   "outputs": [
    {
     "data": {
      "image/png": "[encoded data removed]",
      "text/plain": [
       "<matplotlib.figure.Figure at 0x7f89e95dc150>"
      ]
     },
     "metadata": {},
     "output_type": "display_data"
    }
   ],
   "source": [
    "slice = 15\n",
    "predicted = model.predict(X_test[:slice]).argmax(-1)\n",
    "\n",
    "plt.figure(figsize=(16,8))\n",
    "for i in range(slice):\n",
    "    plt.subplot(1, slice, i+1)\n",
    "    plt.imshow(X_test[i,0], interpolation='nearest')\n",
    "    plt.text(0, 0, predicted[i], color='black', \n",
    "             bbox=dict(facecolor='white', alpha=1))\n",
    "    plt.axis('off')"
   ]
  },
  {
   "cell_type": "markdown",
   "metadata": {
    "deletable": true,
    "editable": true,
    "slideshow": {
     "slide_type": "slide"
    }
   },
   "source": [
    "# Adding more Dense Layers"
   ]
  },
  {
   "cell_type": "code",
   "execution_count": 88,
   "metadata": {
    "collapsed": false,
    "deletable": true,
    "editable": true,
    "slideshow": {
     "slide_type": "subslide"
    }
   },
   "outputs": [],
   "source": [
    "model = Sequential()\n",
    "model.add(Conv2D(nb_filters, nb_conv, nb_conv, input_shape=shape_ord))\n",
    "model.add(Activation('relu'))\n",
    "\n",
    "model.add(Flatten())\n",
    "model.add(Dense(128))\n",
    "model.add(Activation('relu'))\n",
    "\n",
    "model.add(Dense(nb_classes))\n",
    "model.add(Activation('softmax'))"
   ]
  },
  {
   "cell_type": "code",
   "execution_count": 15,
   "metadata": {
    "collapsed": false,
    "deletable": true,
    "editable": true,
    "slideshow": {
     "slide_type": "subslide"
    }
   },
   "outputs": [
    {
     "name": "stdout",
     "output_type": "stream",
     "text": [
      "____________________________________________________________________________________________________\n",
      "Layer (type)                     Output Shape          Param #     Connected to                     \n",
      "====================================================================================================\n",
      "convolution2d_7 (Convolution2D)  (None, 32, 26, 26)    320         convolution2d_input_2[0][0]      \n",
      "____________________________________________________________________________________________________\n",
      "activation_15 (Activation)       (None, 32, 26, 26)    0           convolution2d_7[0][0]            \n",
      "____________________________________________________________________________________________________\n",
      "flatten_7 (Flatten)              (None, 21632)         0           activation_15[0][0]              \n",
      "____________________________________________________________________________________________________\n",
      "dense_9 (Dense)                  (None, 128)           2769024     flatten_7[0][0]                  \n",
      "____________________________________________________________________________________________________\n",
      "activation_16 (Activation)       (None, 128)           0           dense_9[0][0]                    \n",
      "____________________________________________________________________________________________________\n",
      "dropout_2 (Dropout)              (None, 128)           0           activation_16[0][0]              \n",
      "____________________________________________________________________________________________________\n",
      "dense_10 (Dense)                 (None, 10)            1290        dropout_2[0][0]                  \n",
      "____________________________________________________________________________________________________\n",
      "activation_17 (Activation)       (None, 10)            0           dense_10[0][0]                   \n",
      "====================================================================================================\n",
      "Total params: 2770634\n",
      "____________________________________________________________________________________________________\n"
     ]
    }
   ],
   "source": [
    "model.compile(loss='categorical_crossentropy',\n",
    "              optimizer='sgd',\n",
    "              metrics=['accuracy'])\n",
    "\n",
    "# Ah, another path to choose, Train or load!!\n",
    "'''\n",
    "hist = model.fit(X_train, y_train, batch_size=batch_size, \n",
    "                 nb_epoch=nb_epoch, verbose=1, \n",
    "                 validation_data=(X_test, y_test))\n",
    "model.save('example_MNIST_CNN_more_dense.h5')\n",
    "'''\n",
    "model=load_model('example_MNIST_CNN_more_dense.h5')\n",
    "model.summary()"
   ]
  },
  {
   "cell_type": "code",
   "execution_count": 16,
   "metadata": {
    "collapsed": false,
    "deletable": true,
    "editable": true,
    "slideshow": {
     "slide_type": "subslide"
    }
   },
   "outputs": [
    {
     "name": "stdout",
     "output_type": "stream",
     "text": [
      "('Test score:', 0.46507161331176755)\n",
      "('Test accuracy:', 0.88390000000000002)\n"
     ]
    }
   ],
   "source": [
    "#Evaluating the model on the test data    \n",
    "score, accuracy = model.evaluate(X_test, y_test, verbose=0)\n",
    "print('Test score:', score)\n",
    "print('Test accuracy:', accuracy)"
   ]
  },
  {
   "cell_type": "markdown",
   "metadata": {
    "deletable": true,
    "editable": true,
    "slideshow": {
     "slide_type": "slide"
    }
   },
   "source": [
    "# Adding more Convolution Layers"
   ]
  },
  {
   "cell_type": "code",
   "execution_count": 10,
   "metadata": {
    "collapsed": false,
    "deletable": true,
    "editable": true,
    "slideshow": {
     "slide_type": "subslide"
    }
   },
   "outputs": [],
   "source": [
    "model = Sequential()\n",
    "model.add(Conv2D(nb_filters, nb_conv, nb_conv, input_shape=shape_ord))\n",
    "model.add(Activation('relu'))\n",
    "model.add(Conv2D(nb_filters, nb_conv, nb_conv))\n",
    "model.add(Activation('relu'))\n",
    "model.add(MaxPooling2D(pool_size=(nb_pool, nb_pool)))\n",
    "model.add(Dropout(0.25))\n",
    "    \n",
    "model.add(Flatten())\n",
    "model.add(Dense(128))\n",
    "model.add(Activation('relu'))\n",
    "model.add(Dropout(0.5))\n",
    "model.add(Dense(nb_classes))\n",
    "model.add(Activation('softmax'))"
   ]
  },
  {
   "cell_type": "code",
   "execution_count": 11,
   "metadata": {
    "collapsed": false,
    "deletable": true,
    "editable": true,
    "slideshow": {
     "slide_type": "subslide"
    }
   },
   "outputs": [
    {
     "name": "stdout",
     "output_type": "stream",
     "text": [
      "Train on 60000 samples, validate on 10000 samples\n",
      "Epoch 1/100\n",
      "60000/60000 [==============================] - 2s - loss: 2.3051 - acc: 0.0960 - val_loss: 2.2946 - val_acc: 0.0716\n",
      "Epoch 2/100\n",
      "60000/60000 [==============================] - 2s - loss: 2.2971 - acc: 0.1034 - val_loss: 2.2860 - val_acc: 0.0825\n",
      "Epoch 3/100\n",
      "60000/60000 [==============================] - 2s - loss: 2.2901 - acc: 0.1121 - val_loss: 2.2777 - val_acc: 0.1079\n",
      "Epoch 4/100\n",
      "60000/60000 [==============================] - 2s - loss: 2.2815 - acc: 0.1273 - val_loss: 2.2695 - val_acc: 0.1491\n",
      "Epoch 5/100\n",
      "60000/60000 [==============================] - 2s - loss: 2.2748 - acc: 0.1393 - val_loss: 2.2613 - val_acc: 0.2022\n",
      "Epoch 6/100\n",
      "60000/60000 [==============================] - 2s - loss: 2.2677 - acc: 0.1507 - val_loss: 2.2528 - val_acc: 0.2561\n",
      "Epoch 7/100\n",
      "60000/60000 [==============================] - 2s - loss: 2.2603 - acc: 0.1643 - val_loss: 2.2439 - val_acc: 0.3017\n",
      "Epoch 8/100\n",
      "60000/60000 [==============================] - 2s - loss: 2.2523 - acc: 0.1789 - val_loss: 2.2343 - val_acc: 0.3364\n",
      "Epoch 9/100\n",
      "60000/60000 [==============================] - 2s - loss: 2.2438 - acc: 0.1915 - val_loss: 2.2239 - val_acc: 0.3697\n",
      "Epoch 10/100\n",
      "60000/60000 [==============================] - 2s - loss: 2.2351 - acc: 0.2035 - val_loss: 2.2123 - val_acc: 0.4023\n",
      "Epoch 11/100\n",
      "60000/60000 [==============================] - 2s - loss: 2.2246 - acc: 0.2187 - val_loss: 2.1994 - val_acc: 0.4426\n",
      "Epoch 12/100\n",
      "60000/60000 [==============================] - 2s - loss: 2.2126 - acc: 0.2365 - val_loss: 2.1849 - val_acc: 0.4807\n",
      "Epoch 13/100\n",
      "60000/60000 [==============================] - 2s - loss: 2.2002 - acc: 0.2528 - val_loss: 2.1686 - val_acc: 0.5176\n",
      "Epoch 14/100\n",
      "60000/60000 [==============================] - 2s - loss: 2.1866 - acc: 0.2673 - val_loss: 2.1503 - val_acc: 0.5485\n",
      "Epoch 15/100\n",
      "60000/60000 [==============================] - 2s - loss: 2.1690 - acc: 0.2821 - val_loss: 2.1294 - val_acc: 0.5755\n",
      "Epoch 16/100\n",
      "60000/60000 [==============================] - 2s - loss: 2.1517 - acc: 0.2954 - val_loss: 2.1057 - val_acc: 0.6013\n",
      "Epoch 17/100\n",
      "60000/60000 [==============================] - 2s - loss: 2.1324 - acc: 0.3132 - val_loss: 2.0787 - val_acc: 0.6245\n",
      "Epoch 18/100\n",
      "60000/60000 [==============================] - 2s - loss: 2.1078 - acc: 0.3331 - val_loss: 2.0477 - val_acc: 0.6458\n",
      "Epoch 19/100\n",
      "60000/60000 [==============================] - 2s - loss: 2.0824 - acc: 0.3487 - val_loss: 2.0123 - val_acc: 0.6643\n",
      "Epoch 20/100\n",
      "60000/60000 [==============================] - 2s - loss: 2.0508 - acc: 0.3665 - val_loss: 1.9716 - val_acc: 0.6818\n",
      "Epoch 21/100\n",
      "60000/60000 [==============================] - 2s - loss: 2.0151 - acc: 0.3868 - val_loss: 1.9247 - val_acc: 0.6999\n",
      "Epoch 22/100\n",
      "60000/60000 [==============================] - 2s - loss: 1.9766 - acc: 0.4046 - val_loss: 1.8713 - val_acc: 0.7144\n",
      "Epoch 23/100\n",
      "60000/60000 [==============================] - 2s - loss: 1.9328 - acc: 0.4216 - val_loss: 1.8109 - val_acc: 0.7266\n",
      "Epoch 24/100\n",
      "60000/60000 [==============================] - 2s - loss: 1.8838 - acc: 0.4417 - val_loss: 1.7430 - val_acc: 0.7358\n",
      "Epoch 25/100\n",
      "60000/60000 [==============================] - 2s - loss: 1.8287 - acc: 0.4611 - val_loss: 1.6684 - val_acc: 0.7479\n",
      "Epoch 26/100\n",
      "60000/60000 [==============================] - 2s - loss: 1.7691 - acc: 0.4837 - val_loss: 1.5873 - val_acc: 0.7557\n",
      "Epoch 27/100\n",
      "60000/60000 [==============================] - 2s - loss: 1.7050 - acc: 0.5038 - val_loss: 1.5014 - val_acc: 0.7619\n",
      "Epoch 28/100\n",
      "60000/60000 [==============================] - 2s - loss: 1.6431 - acc: 0.5172 - val_loss: 1.4138 - val_acc: 0.7684\n",
      "Epoch 29/100\n",
      "60000/60000 [==============================] - 2s - loss: 1.5756 - acc: 0.5375 - val_loss: 1.3259 - val_acc: 0.7760\n",
      "Epoch 30/100\n",
      "60000/60000 [==============================] - 2s - loss: 1.5116 - acc: 0.5502 - val_loss: 1.2412 - val_acc: 0.7809\n",
      "Epoch 31/100\n",
      "60000/60000 [==============================] - 2s - loss: 1.4471 - acc: 0.5658 - val_loss: 1.1608 - val_acc: 0.7863\n",
      "Epoch 32/100\n",
      "60000/60000 [==============================] - 2s - loss: 1.3881 - acc: 0.5802 - val_loss: 1.0870 - val_acc: 0.7921\n",
      "Epoch 33/100\n",
      "60000/60000 [==============================] - 2s - loss: 1.3301 - acc: 0.5949 - val_loss: 1.0194 - val_acc: 0.7971\n",
      "Epoch 34/100\n",
      "60000/60000 [==============================] - 2s - loss: 1.2808 - acc: 0.6078 - val_loss: 0.9597 - val_acc: 0.8026\n",
      "Epoch 35/100\n",
      "60000/60000 [==============================] - 2s - loss: 1.2324 - acc: 0.6188 - val_loss: 0.9065 - val_acc: 0.8086\n",
      "Epoch 36/100\n",
      "60000/60000 [==============================] - 2s - loss: 1.1924 - acc: 0.6300 - val_loss: 0.8596 - val_acc: 0.8147\n",
      "Epoch 37/100\n",
      "60000/60000 [==============================] - 2s - loss: 1.1525 - acc: 0.6405 - val_loss: 0.8181 - val_acc: 0.8187\n",
      "Epoch 38/100\n",
      "60000/60000 [==============================] - 2s - loss: 1.1163 - acc: 0.6511 - val_loss: 0.7808 - val_acc: 0.8235\n",
      "Epoch 39/100\n",
      "60000/60000 [==============================] - 2s - loss: 1.0839 - acc: 0.6586 - val_loss: 0.7486 - val_acc: 0.8277\n",
      "Epoch 40/100\n",
      "60000/60000 [==============================] - 2s - loss: 1.0574 - acc: 0.6635 - val_loss: 0.7197 - val_acc: 0.8326\n",
      "Epoch 41/100\n",
      "60000/60000 [==============================] - 2s - loss: 1.0317 - acc: 0.6735 - val_loss: 0.6939 - val_acc: 0.8371\n",
      "Epoch 42/100\n",
      "60000/60000 [==============================] - 2s - loss: 0.9946 - acc: 0.6858 - val_loss: 0.6693 - val_acc: 0.8406\n",
      "Epoch 43/100\n",
      "60000/60000 [==============================] - 2s - loss: 0.9787 - acc: 0.6875 - val_loss: 0.6483 - val_acc: 0.8435\n",
      "Epoch 44/100\n",
      "60000/60000 [==============================] - 2s - loss: 0.9586 - acc: 0.6950 - val_loss: 0.6292 - val_acc: 0.8466\n",
      "Epoch 45/100\n",
      "60000/60000 [==============================] - 2s - loss: 0.9375 - acc: 0.7017 - val_loss: 0.6114 - val_acc: 0.8492\n",
      "Epoch 46/100\n",
      "60000/60000 [==============================] - 2s - loss: 0.9201 - acc: 0.7060 - val_loss: 0.5956 - val_acc: 0.8519\n",
      "Epoch 47/100\n",
      "60000/60000 [==============================] - 2s - loss: 0.9024 - acc: 0.7120 - val_loss: 0.5808 - val_acc: 0.8537\n",
      "Epoch 48/100\n",
      "60000/60000 [==============================] - 2s - loss: 0.8823 - acc: 0.7204 - val_loss: 0.5669 - val_acc: 0.8572\n",
      "Epoch 49/100\n",
      "60000/60000 [==============================] - 2s - loss: 0.8706 - acc: 0.7215 - val_loss: 0.5545 - val_acc: 0.8592\n",
      "Epoch 50/100\n",
      "60000/60000 [==============================] - 2s - loss: 0.8577 - acc: 0.7275 - val_loss: 0.5434 - val_acc: 0.8610\n",
      "Epoch 51/100\n",
      "60000/60000 [==============================] - 2s - loss: 0.8455 - acc: 0.7304 - val_loss: 0.5319 - val_acc: 0.8627\n",
      "Epoch 52/100\n",
      "60000/60000 [==============================] - 2s - loss: 0.8316 - acc: 0.7343 - val_loss: 0.5223 - val_acc: 0.8651\n",
      "Epoch 53/100\n",
      "60000/60000 [==============================] - 2s - loss: 0.8210 - acc: 0.7367 - val_loss: 0.5128 - val_acc: 0.8666\n",
      "Epoch 54/100\n",
      "60000/60000 [==============================] - 2s - loss: 0.8036 - acc: 0.7439 - val_loss: 0.5037 - val_acc: 0.8682\n",
      "Epoch 55/100\n",
      "60000/60000 [==============================] - 2s - loss: 0.7948 - acc: 0.7462 - val_loss: 0.4954 - val_acc: 0.8698\n",
      "Epoch 56/100\n",
      "60000/60000 [==============================] - 2s - loss: 0.7846 - acc: 0.7503 - val_loss: 0.4872 - val_acc: 0.8715\n",
      "Epoch 57/100\n",
      "60000/60000 [==============================] - 2s - loss: 0.7757 - acc: 0.7516 - val_loss: 0.4794 - val_acc: 0.8735\n",
      "Epoch 58/100\n",
      "60000/60000 [==============================] - 2s - loss: 0.7719 - acc: 0.7546 - val_loss: 0.4728 - val_acc: 0.8752\n",
      "Epoch 59/100\n",
      "60000/60000 [==============================] - 2s - loss: 0.7640 - acc: 0.7574 - val_loss: 0.4665 - val_acc: 0.8762\n",
      "Epoch 60/100\n",
      "60000/60000 [==============================] - 2s - loss: 0.7561 - acc: 0.7599 - val_loss: 0.4605 - val_acc: 0.8779\n",
      "Epoch 61/100\n",
      "60000/60000 [==============================] - 2s - loss: 0.7427 - acc: 0.7646 - val_loss: 0.4543 - val_acc: 0.8784\n",
      "Epoch 62/100\n",
      "60000/60000 [==============================] - 2s - loss: 0.7405 - acc: 0.7648 - val_loss: 0.4487 - val_acc: 0.8801\n",
      "Epoch 63/100\n",
      "60000/60000 [==============================] - 2s - loss: 0.7203 - acc: 0.7723 - val_loss: 0.4427 - val_acc: 0.8811\n",
      "Epoch 64/100\n",
      "60000/60000 [==============================] - 2s - loss: 0.7200 - acc: 0.7705 - val_loss: 0.4375 - val_acc: 0.8828\n",
      "Epoch 65/100\n",
      "60000/60000 [==============================] - 2s - loss: 0.7116 - acc: 0.7759 - val_loss: 0.4322 - val_acc: 0.8837\n",
      "Epoch 66/100\n",
      "60000/60000 [==============================] - 2s - loss: 0.7064 - acc: 0.7764 - val_loss: 0.4277 - val_acc: 0.8839\n",
      "Epoch 67/100\n",
      "60000/60000 [==============================] - 2s - loss: 0.6994 - acc: 0.7773 - val_loss: 0.4227 - val_acc: 0.8851\n",
      "Epoch 68/100\n",
      "60000/60000 [==============================] - 2s - loss: 0.6960 - acc: 0.7791 - val_loss: 0.4185 - val_acc: 0.8858\n",
      "Epoch 69/100\n",
      "60000/60000 [==============================] - 2s - loss: 0.6860 - acc: 0.7819 - val_loss: 0.4140 - val_acc: 0.8868\n",
      "Epoch 70/100\n",
      "60000/60000 [==============================] - 2s - loss: 0.6818 - acc: 0.7853 - val_loss: 0.4099 - val_acc: 0.8879\n",
      "Epoch 71/100\n",
      "60000/60000 [==============================] - 2s - loss: 0.6760 - acc: 0.7872 - val_loss: 0.4061 - val_acc: 0.8887\n",
      "Epoch 72/100\n",
      "60000/60000 [==============================] - 2s - loss: 0.6768 - acc: 0.7854 - val_loss: 0.4026 - val_acc: 0.8895\n",
      "Epoch 73/100\n",
      "60000/60000 [==============================] - 2s - loss: 0.6690 - acc: 0.7886 - val_loss: 0.3989 - val_acc: 0.8908\n",
      "Epoch 74/100\n",
      "60000/60000 [==============================] - 2s - loss: 0.6583 - acc: 0.7908 - val_loss: 0.3952 - val_acc: 0.8917\n",
      "Epoch 75/100\n",
      "60000/60000 [==============================] - 2s - loss: 0.6549 - acc: 0.7941 - val_loss: 0.3919 - val_acc: 0.8929\n",
      "Epoch 76/100\n",
      "60000/60000 [==============================] - 2s - loss: 0.6502 - acc: 0.7955 - val_loss: 0.3887 - val_acc: 0.8935\n",
      "Epoch 77/100\n",
      "60000/60000 [==============================] - 2s - loss: 0.6470 - acc: 0.7961 - val_loss: 0.3856 - val_acc: 0.8943\n",
      "Epoch 78/100\n",
      "60000/60000 [==============================] - 2s - loss: 0.6409 - acc: 0.7987 - val_loss: 0.3826 - val_acc: 0.8947\n",
      "Epoch 79/100\n",
      "60000/60000 [==============================] - 2s - loss: 0.6381 - acc: 0.8002 - val_loss: 0.3799 - val_acc: 0.8952\n",
      "Epoch 80/100\n",
      "60000/60000 [==============================] - 2s - loss: 0.6337 - acc: 0.8008 - val_loss: 0.3775 - val_acc: 0.8961\n",
      "Epoch 81/100\n",
      "60000/60000 [==============================] - 2s - loss: 0.6280 - acc: 0.8033 - val_loss: 0.3745 - val_acc: 0.8964\n",
      "Epoch 82/100\n",
      "60000/60000 [==============================] - 2s - loss: 0.6286 - acc: 0.8032 - val_loss: 0.3718 - val_acc: 0.8978\n",
      "Epoch 83/100\n",
      "60000/60000 [==============================] - 2s - loss: 0.6247 - acc: 0.8024 - val_loss: 0.3693 - val_acc: 0.8984\n",
      "Epoch 84/100\n",
      "60000/60000 [==============================] - 2s - loss: 0.6202 - acc: 0.8034 - val_loss: 0.3670 - val_acc: 0.8992\n",
      "Epoch 85/100\n",
      "60000/60000 [==============================] - 2s - loss: 0.6126 - acc: 0.8087 - val_loss: 0.3643 - val_acc: 0.8993\n",
      "Epoch 86/100\n",
      "60000/60000 [==============================] - 2s - loss: 0.6106 - acc: 0.8068 - val_loss: 0.3624 - val_acc: 0.9007\n",
      "Epoch 87/100\n",
      "60000/60000 [==============================] - 2s - loss: 0.6140 - acc: 0.8090 - val_loss: 0.3602 - val_acc: 0.9008\n",
      "Epoch 88/100\n",
      "60000/60000 [==============================] - 2s - loss: 0.6029 - acc: 0.8113 - val_loss: 0.3577 - val_acc: 0.9011\n",
      "Epoch 89/100\n",
      "60000/60000 [==============================] - 2s - loss: 0.6006 - acc: 0.8120 - val_loss: 0.3555 - val_acc: 0.9017\n",
      "Epoch 90/100\n",
      "60000/60000 [==============================] - 2s - loss: 0.5947 - acc: 0.8146 - val_loss: 0.3531 - val_acc: 0.9020\n",
      "Epoch 91/100\n",
      "60000/60000 [==============================] - 2s - loss: 0.5952 - acc: 0.8134 - val_loss: 0.3508 - val_acc: 0.9027\n",
      "Epoch 92/100\n",
      "60000/60000 [==============================] - 2s - loss: 0.5947 - acc: 0.8139 - val_loss: 0.3494 - val_acc: 0.9023\n",
      "Epoch 93/100\n",
      "60000/60000 [==============================] - 2s - loss: 0.5899 - acc: 0.8151 - val_loss: 0.3472 - val_acc: 0.9044\n",
      "Epoch 94/100\n",
      "60000/60000 [==============================] - 2s - loss: 0.5819 - acc: 0.8176 - val_loss: 0.3455 - val_acc: 0.9046\n",
      "Epoch 95/100\n",
      "60000/60000 [==============================] - 2s - loss: 0.5879 - acc: 0.8163 - val_loss: 0.3439 - val_acc: 0.9047\n",
      "Epoch 96/100\n",
      "60000/60000 [==============================] - 2s - loss: 0.5761 - acc: 0.8206 - val_loss: 0.3420 - val_acc: 0.9048\n",
      "Epoch 97/100\n",
      "60000/60000 [==============================] - 2s - loss: 0.5790 - acc: 0.8198 - val_loss: 0.3402 - val_acc: 0.9054\n",
      "Epoch 98/100\n",
      "60000/60000 [==============================] - 2s - loss: 0.5737 - acc: 0.8203 - val_loss: 0.3383 - val_acc: 0.9054\n",
      "Epoch 99/100\n",
      "60000/60000 [==============================] - 2s - loss: 0.5740 - acc: 0.8190 - val_loss: 0.3368 - val_acc: 0.9061\n",
      "Epoch 100/100\n",
      "60000/60000 [==============================] - 2s - loss: 0.5708 - acc: 0.8227 - val_loss: 0.3352 - val_acc: 0.9064\n"
     ]
    }
   ],
   "source": [
    "model.compile(loss='categorical_crossentropy',\n",
    "              optimizer='sgd',\n",
    "              metrics=['accuracy'])\n",
    "\n",
    "#'''\n",
    "hist = model.fit(X_train, y_train, batch_size=batch_size/2, \n",
    "                 nb_epoch=nb_epoch, verbose=1, \n",
    "                 validation_data=(X_test, y_test))\n",
    "model.save('example_MNIST_CNN_more_conv.h5')\n",
    "#'''\n",
    "#model=load_model('example_MNIST_CNN_more_conv.h5')\n",
    "#model.summary()"
   ]
  },
  {
   "cell_type": "code",
   "execution_count": 13,
   "metadata": {
    "collapsed": false,
    "deletable": true,
    "editable": true
   },
   "outputs": [
    {
     "name": "stdout",
     "output_type": "stream",
     "text": [
      "('Test score:', 0.33523815140724184)\n",
      "('Test accuracy:', 0.90639999999999998)\n"
     ]
    }
   ],
   "source": [
    "#Evaluating the model on the test data    \n",
    "score, accuracy = model.evaluate(X_test, y_test, verbose=0)\n",
    "print('Test score:', score)\n",
    "print('Test accuracy:', accuracy)"
   ]
  },
  {
   "cell_type": "markdown",
   "metadata": {
    "deletable": true,
    "editable": true
   },
   "source": [
    "# Exercise\n",
    "\n",
    "The above code has been written as a function. \n",
    "\n",
    "Change some of the **hyperparameters** and see what happens. "
   ]
  },
  {
   "cell_type": "code",
   "execution_count": null,
   "metadata": {
    "collapsed": true,
    "deletable": true,
    "editable": true,
    "slideshow": {
     "slide_type": "skip"
    }
   },
   "outputs": [],
   "source": [
    "# Function for constructing the convolution neural network\n",
    "# Feel free to add parameters, if you want\n",
    "\n",
    "def build_model():\n",
    "    \"\"\"\"\"\"\n",
    "    model = Sequential()\n",
    "    model.add(Conv2D(nb_filters, nb_conv, nb_conv, \n",
    "                     padding='valid',\n",
    "                     input_shape=shape_ord))\n",
    "    model.add(Activation('relu'))\n",
    "    model.add(Conv2D(nb_filters, nb_conv, nb_conv))\n",
    "    model.add(Activation('relu'))\n",
    "    model.add(MaxPooling2D(pool_size=(nb_pool, nb_pool)))\n",
    "    model.add(Dropout(0.25))\n",
    "    \n",
    "    model.add(Flatten())\n",
    "    model.add(Dense(128))\n",
    "    model.add(Activation('relu'))\n",
    "    model.add(Dropout(0.5))\n",
    "    model.add(Dense(nb_classes))\n",
    "    model.add(Activation('softmax'))\n",
    "    \n",
    "    model.compile(loss='categorical_crossentropy',\n",
    "              optimizer='sgd',\n",
    "              metrics=['accuracy'])\n",
    "\n",
    "    model.fit(X_train, y_train, batch_size=batch_size, \n",
    "              epochs=nb_epoch,verbose=1,\n",
    "              validation_data=(X_test, y_test))\n",
    "          \n",
    "\n",
    "    #Evaluating the model on the test data    \n",
    "    score, accuracy = model.evaluate(X_test, y_test, verbose=0)\n",
    "    print('Test score:', score)\n",
    "    print('Test accuracy:', accuracy)"
   ]
  }
 ],
 "metadata": {
  "anaconda-cloud": {},
  "kernelspec": {
   "display_name": "Python [conda root]",
   "language": "python",
   "name": "conda-root-py"
  },
  "language_info": {
   "codemirror_mode": {
    "name": "ipython",
    "version": 2
   },
   "file_extension": ".py",
   "mimetype": "text/x-python",
   "name": "python",
   "nbconvert_exporter": "python",
   "pygments_lexer": "ipython2",
   "version": "2.7.12"
  }
 },
 "nbformat": 4,
 "nbformat_minor": 0
}
